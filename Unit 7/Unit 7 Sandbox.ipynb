{
 "cells": [
  {
   "cell_type": "markdown",
   "metadata": {},
   "source": [
    "## Lab 3 (thanks Waylon!)\n",
    "- See solutions"
   ]
  },
  {
   "cell_type": "markdown",
   "metadata": {},
   "source": [
    "## Quiz 1"
   ]
  },
  {
   "cell_type": "code",
   "execution_count": null,
   "metadata": {},
   "outputs": [],
   "source": [
    "#Q 11\n",
    "#Question 11\n",
    "#Question 1: Lists and Strings\n",
    "\n",
    "#Suppose that you have a list of strings named examples. Write a Python loop that goes through the list and prints each string where the string length is three or more and the first and last characters of the strings are the same.\n",
    "\n",
    "#Test your code on the following three versions of the list examples:\n",
    "##examples = ['abab', 'xyz', 'aa', 'x', 'bcb']\n",
    "#examples = ['', 'x', 'xy', 'xyx', 'xx']\n",
    "#examples = ['aaa', 'be', 'abc', 'hello']\n",
    "\n",
    "#You may do this exercise either in the interpreter or in a program. Please submit your code and the output from the three examples.\n",
    "\n",
    "examples = ['abab', 'xyz', 'aa', 'x', 'bcb']\n",
    "for elem in examples:\n",
    "    if len(elem) > 2 and elem[0] == elem[-1]:\n",
    "        print(elem)\n",
    "\n",
    "examples = ['', 'x', 'xy', 'xyx', 'xx']\n",
    "for elem in examples:\n",
    "    if len(elem) > 2 and elem[0] == elem[-1]:\n",
    "        print(elem)\n",
    "\n",
    ">>> examples = ['aaa', 'be', 'abc', 'hello']\n",
    ">>> for elem in examples:\n",
    "...     if len(elem) > 2 and elem[0] == elem[-1]:\n",
    "...             print(elem)\n",
    "...\n",
    "aaa"
   ]
  },
  {
   "cell_type": "markdown",
   "metadata": {},
   "source": [
    "# Question 12\n",
    "\n",
    "Question 2: Reading and processing data in a file\n",
    "\n",
    "For this question, you are to write a program that reads the data in the file state_satscores_2004.txt. Each line of this file has name of a state, mean Verbal SAT score, and mean Math SAT score.\n",
    "\n",
    "After reading the data,\n",
    "a. Print the state with the highest mean Verbal SAT score\n",
    "b. Print each state that has a mean Math SAT score greater than 500\n",
    "\n",
    "Submit the code and the output from your program.\n",
    "\n",
    "You may use the code developed for the NBA data as a template, but it is absolutely essential that you use appropriate variable names and that you write original comments for what your program does.\n",
    "\n",
    "If you prefer, you can write this program with a csv reader, using state_satscores_2004.tsv."
   ]
  },
  {
   "cell_type": "code",
   "execution_count": null,
   "metadata": {},
   "outputs": [],
   "source": [
    "import re\n",
    "\n",
    "# Open the file\n",
    "SATscores = open ('state_satscores_2004.tsv', 'r')\n",
    "\n",
    "#Create count variable and empty ScoreList list\n",
    "ScoreList = [ ]\n",
    "\n",
    "#Iterate over the data and count the number of observations\n",
    "for line in SATscores:\n",
    "    # Strip the new lines from the file\n",
    "    textline = line.strip()\n",
    "    # Split the data\n",
    "    items = re.split(r'\\t+', textline.rstrip('\\t'))\n",
    "    # Add the results to the empty list created above\n",
    "    ScoreList.append(items)\n",
    "\n",
    "ScoreList.sort()\n",
    "\n",
    "#Saving each variable under a name\n",
    "VerbSAT = []\n",
    "for line in ScoreList:\n",
    "    VerbSAT.append(int(line[1]))\n",
    "MathSAT = []\n",
    "for line in ScoreList:\n",
    "    MathSAT.append(int(line[2]))\n",
    "State = []\n",
    "for line in ScoreList:\n",
    "    State.append(line[0])\n",
    "\n",
    "#Finding and printing the highest mean Verbal SAT score\n",
    "max_Verb = max(VerbSAT)\n",
    "max_Verb_state = State[VerbSAT.index(max_Verb)]\n",
    "print(\"The state with the highest mean Verbal SAT was\", max_Verb_state, \"with a mean score of\", max_Verb)\n",
    "\n",
    "#Finding and printing the states with a high Math score\n",
    "print ('The following states have a mean Math SAT score greater than 500:')\n",
    "for (State, Verb, Math) in ScoreList:\n",
    "    if int(Math) > 500:\n",
    "        print (State)"
   ]
  },
  {
   "cell_type": "markdown",
   "metadata": {},
   "source": [
    "# JSON Example "
   ]
  },
  {
   "cell_type": "code",
   "execution_count": 10,
   "metadata": {},
   "outputs": [
    {
     "data": {
      "text/plain": [
       "dict_keys(['type', 'metadata', 'features', 'bbox'])"
      ]
     },
     "execution_count": 10,
     "metadata": {},
     "output_type": "execute_result"
    }
   ],
   "source": [
    "import urllib.request\n",
    "import json\n",
    "\n",
    "earthquake_url =\"http://earthquake.usgs.gov/earthquakes/feed/v1.0/summary/significant_month.geojson\"\n",
    "\n",
    "response = urllib.request.urlopen(earthquake_url)\n",
    "\n",
    "json_string = response.read().decode('utf-8')\n",
    "\n",
    "eq_parsed_json = json.loads(json_string)\n",
    "\n",
    "type(eq_parsed_json)\n",
    "\n",
    "eq_parsed_json.keys() # Lists the keys at the top level"
   ]
  },
  {
   "cell_type": "code",
   "execution_count": 20,
   "metadata": {},
   "outputs": [
    {
     "data": {
      "text/plain": [
       "1566049683000"
      ]
     },
     "execution_count": 20,
     "metadata": {},
     "output_type": "execute_result"
    }
   ],
   "source": [
    "eq_parsed_json['type']\n",
    "\n",
    "eq_parsed_json['metadata']\n",
    "\n",
    "generated = eq_parsed_json['metadata']['generated']\n",
    "\n",
    "generated"
   ]
  },
  {
   "cell_type": "code",
   "execution_count": 23,
   "metadata": {},
   "outputs": [
    {
     "data": {
      "text/plain": [
       "{'type': 'Feature',\n",
       " 'properties': {'mag': 4.2,\n",
       "  'place': '4km WSW of South Hutchinson, Kansas',\n",
       "  'time': 1565960350388,\n",
       "  'updated': 1566049142595,\n",
       "  'tz': -360,\n",
       "  'url': 'https://earthquake.usgs.gov/earthquakes/eventpage/us600055xa',\n",
       "  'detail': 'https://earthquake.usgs.gov/earthquakes/feed/v1.0/detail/us600055xa.geojson',\n",
       "  'felt': 1022,\n",
       "  'cdi': 6.1,\n",
       "  'mmi': 5.597,\n",
       "  'alert': None,\n",
       "  'status': 'reviewed',\n",
       "  'tsunami': 0,\n",
       "  'sig': 881,\n",
       "  'net': 'us',\n",
       "  'code': '600055xa',\n",
       "  'ids': ',us600055xa,',\n",
       "  'sources': ',us,',\n",
       "  'types': ',dyfi,geoserve,moment-tensor,origin,phase-data,shakemap,',\n",
       "  'nst': None,\n",
       "  'dmin': 0.702,\n",
       "  'rms': 0.29,\n",
       "  'gap': 186,\n",
       "  'magType': 'mwr',\n",
       "  'type': 'earthquake',\n",
       "  'title': 'M 4.2 - 4km WSW of South Hutchinson, Kansas'},\n",
       " 'geometry': {'type': 'Point', 'coordinates': [-97.9879, 38.0101, 5]},\n",
       " 'id': 'us600055xa'}"
      ]
     },
     "execution_count": 23,
     "metadata": {},
     "output_type": "execute_result"
    }
   ],
   "source": [
    "quakelist = eq_parsed_json['features']\n",
    "quakelist\n",
    "\n",
    "len(quakelist)\n",
    "\n",
    "quakelist[0]"
   ]
  },
  {
   "cell_type": "code",
   "execution_count": 30,
   "metadata": {},
   "outputs": [
    {
     "name": "stdout",
     "output_type": "stream",
     "text": [
      "4km WSW of South Hutchinson, Kansas\n",
      "16km SE of Su'ao, Taiwan\n",
      "54km ENE of Namie, Japan\n",
      "102km WSW of Tugu Hilir, Indonesia\n",
      "94km SW of San Antonio, Chile\n",
      "62km E of Lakatoro, Vanuatu\n",
      "24km S of La Libertad, El Salvador\n",
      "140km ESE of Shingu, Japan\n",
      "16km S of Twentynine Palms, CA\n",
      "3km NNW of Magoula, Greece\n"
     ]
    },
    {
     "data": {
      "text/plain": [
       "['4km WSW of South Hutchinson, Kansas', \"16km SE of Su'ao, Taiwan\"]"
      ]
     },
     "execution_count": 30,
     "metadata": {},
     "output_type": "execute_result"
    }
   ],
   "source": [
    "# Printing the place of each earthquake\n",
    "quakeplaces = [] # list of quake locations\n",
    "\n",
    "for quake in quakelist:\n",
    "    print(quake['properties']['place'])\n",
    "    quakeplace = quake['properties']['place']\n",
    "    quakeplaces.append(quakeplace)\n",
    "    \n",
    "quakeplaces[0:2]"
   ]
  },
  {
   "cell_type": "markdown",
   "metadata": {},
   "source": [
    "## Getting Started with Mongo DB\n",
    "\n",
    "- review mongoDB tutorial\n",
    "- discuss code (courtesy of Thomas)"
   ]
  },
  {
   "cell_type": "code",
   "execution_count": null,
   "metadata": {},
   "outputs": [],
   "source": [
    "import pymongo\n",
    "from pymongo import MongoClient\n",
    "\n",
    "peoplelist = [\n",
    "    { \"name\": \"Britney Sykes\", \"age\": 21 , 'position':'Guard'}, \n",
    "    { \"name\": \"Briana Day\", \"age\": 19, 'position':'Center'}, \n",
    "    { \"name\": \"Alexis Peterson\", \"age\": 21, 'position':'Guard' }, \n",
    "    { \"name\": \"Gabby Cooper\", \"age\": 18, 'position':'Guard'}\n",
    "]\n",
    "\n",
    "# setup client\n",
    "client = MongoClient('localhost', 27017)\n",
    "\n",
    "# list db names\n",
    "client.list_database_names()\n",
    "# choose db\n",
    "db = client.peopledb\n",
    "\n",
    "# drop people collection if exists; start from scratch\n",
    "if 'people' in db.list_collection_names():\n",
    "    db.drop_collection('people')\n",
    "\n",
    "# create new collection\n",
    "peoplecoll = db.people\n",
    "\n",
    "# insert peoplelist into peoplecoll\n",
    "peoplecoll.insert_many(peoplelist)\n",
    "\n",
    "# query entries with age less than 20\n",
    "results = peoplecoll.find({'age':{'$lt':20}})\n",
    "[print(result) for result in results]"
   ]
  },
  {
   "cell_type": "markdown",
   "metadata": {},
   "source": [
    "## MongoDB with JSON (courtesy of Rebecca)"
   ]
  },
  {
   "cell_type": "code",
   "execution_count": null,
   "metadata": {},
   "outputs": [],
   "source": [
    "''' \n",
    "This program accesses the USGS earthquake data feed. This URL is for\n",
    "       significant quakes in the last 30 days.\n",
    "It then saves the earthquakes to a database named usgs and a collection called earthquakes.\n",
    "The mongod server must be running for this program to work!\n",
    "'''\n",
    "\n",
    "import urllib.request\n",
    "import json\n",
    "import pymongo\n",
    "\n",
    "\n",
    "# get the bbc rss feed of news stories and connect to it\n",
    "earthquake_url = \"http://earthquake.usgs.gov/earthquakes/feed/v1.0/summary/significant_month.geojson\"\n",
    "\n",
    "try:\n",
    "    response = urllib.request.urlopen(earthquake_url)\n",
    "except urllib.error.URLError as e:\n",
    "    if hasattr(e, 'reason'):\n",
    "        print('We failed to reach a server.')\n",
    "        print('Reason: ', e.reason)\n",
    "    elif hasattr(e, 'code'):\n",
    "        print('The server couldn\\'t fulfill the request.')\n",
    "        print('Error code: ', e.code)\n",
    "else:\n",
    "    # the url request was successful - convert the response to a string\n",
    "    json_string = response.read().decode('utf-8')\n",
    "\n",
    "    # the json package loads() converts the string to python dictionaries and lists\n",
    "    eq_json = json.loads(json_string)\n",
    "    \n",
    "    # from the json dictionary we get the title to print\n",
    "    title = eq_json['metadata']['title']\n",
    "    print('Collected data from', title)\n",
    "    #  and we get the list of earthquakes\n",
    "    quakelist = eq_json['features']\n",
    "\n",
    "    # Connection to Mongo DB\n",
    "    try:\n",
    "        client=pymongo.MongoClient('localhost', 27017)\n",
    "        print (\"Connected successfully!!!\")\n",
    "    except pymongo.errors.ConnectionFailure as e:\n",
    "        print (\"Could not connect to MongoDB: %s\" % e )\n",
    "    else:\n",
    "\n",
    "        # use database named usgs or create it if not there already\n",
    "        eqdb = client.usgs\n",
    "        # create collection named earthquakes or create it if not there already\n",
    "        quakecoll = eqdb.earthquakes\n",
    "        # add all the earthquakes to the list\n",
    "        quakecoll.insert_many(quakelist)\n",
    "        print(\"Added\", len(quakelist), \"to earthquakes collection in usgs database\")\n",
    "  \n",
    "for item in quakecoll.find({},{\"_id\": 0, 'place': 1, 'time': 1 }):\n",
    "    print(item)\n",
    "  \n",
    "# close the database connection\n",
    "client.close()\n",
    "\n"
   ]
  },
  {
   "cell_type": "markdown",
   "metadata": {},
   "source": [
    "# Breakout Group Exercise"
   ]
  },
  {
   "cell_type": "code",
   "execution_count": 31,
   "metadata": {},
   "outputs": [],
   "source": [
    "# Create a list of each of coordinates from \"quakelist\"\n",
    "# ie  'coordinates': [-97.9879, 38.0101, 5]},"
   ]
  },
  {
   "cell_type": "code",
   "execution_count": 5,
   "metadata": {},
   "outputs": [
    {
     "data": {
      "text/plain": [
       "dict_keys(['type', 'properties', 'geometry', 'id'])"
      ]
     },
     "execution_count": 5,
     "metadata": {},
     "output_type": "execute_result"
    }
   ],
   "source": [
    "quake1 = quakelist[0]\n",
    "type(quake1)\n",
    "quake1.keys()"
   ]
  },
  {
   "cell_type": "code",
   "execution_count": 6,
   "metadata": {},
   "outputs": [
    {
     "name": "stdout",
     "output_type": "stream",
     "text": [
      "{\n",
      "  \"type\": \"Feature\",\n",
      "  \"properties\": {\n",
      "    \"mag\": 4.2,\n",
      "    \"place\": \"4km WSW of South Hutchinson, Kansas\",\n",
      "    \"time\": 1565960350388,\n",
      "    \"updated\": 1566045597598,\n",
      "    \"tz\": -360,\n",
      "    \"url\": \"https://earthquake.usgs.gov/earthquakes/eventpage/us600055xa\",\n",
      "    \"detail\": \"https://earthquake.usgs.gov/earthquakes/feed/v1.0/detail/us600055xa.geojson\",\n",
      "    \"felt\": 1019,\n",
      "    \"cdi\": 6.1,\n",
      "    \"mmi\": 5.593,\n",
      "    \"alert\": null,\n",
      "    \"status\": \"reviewed\",\n",
      "    \"tsunami\": 0,\n",
      "    \"sig\": 881,\n",
      "    \"net\": \"us\",\n",
      "    \"code\": \"600055xa\",\n",
      "    \"ids\": \",us600055xa,\",\n",
      "    \"sources\": \",us,\",\n",
      "    \"types\": \",dyfi,geoserve,moment-tensor,origin,phase-data,shakemap,\",\n",
      "    \"nst\": null,\n",
      "    \"dmin\": 0.702,\n",
      "    \"rms\": 0.29,\n",
      "    \"gap\": 186,\n",
      "    \"magType\": \"mwr\",\n",
      "    \"type\": \"earthquake\",\n",
      "    \"title\": \"M 4.2 - 4km WSW of South Hutchinson, Kansas\"\n",
      "  },\n",
      "  \"geometry\": {\n",
      "    \"type\": \"Point\",\n",
      "    \"coordinates\": [\n",
      "      -97.9879,\n",
      "      38.0101,\n",
      "      5\n",
      "    ]\n",
      "  },\n",
      "  \"id\": \"us600055xa\"\n",
      "}\n"
     ]
    }
   ],
   "source": [
    "print(json.dumps(quake1, indent=2))"
   ]
  },
  {
   "cell_type": "code",
   "execution_count": null,
   "metadata": {},
   "outputs": [],
   "source": []
  }
 ],
 "metadata": {
  "kernelspec": {
   "display_name": "Python 3",
   "language": "python",
   "name": "python3"
  },
  "language_info": {
   "codemirror_mode": {
    "name": "ipython",
    "version": 3
   },
   "file_extension": ".py",
   "mimetype": "text/x-python",
   "name": "python",
   "nbconvert_exporter": "python",
   "pygments_lexer": "ipython3",
   "version": "3.7.3"
  }
 },
 "nbformat": 4,
 "nbformat_minor": 2
}
